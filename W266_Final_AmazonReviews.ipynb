{
 "cells": [
  {
   "cell_type": "markdown",
   "metadata": {
    "colab_type": "text",
    "id": "-Yoks35UT5or"
   },
   "source": [
    "# W266 Final Project\n",
    "### Keane Johnson and Tucker Anderson"
   ]
  },
  {
   "cell_type": "markdown",
   "metadata": {
    "colab_type": "text",
    "id": "MCDusLkwUHJr"
   },
   "source": [
    "##TODO Exploratory Data Analysis"
   ]
  },
  {
   "cell_type": "markdown",
   "metadata": {
    "colab_type": "text",
    "id": "9t_9MV2_UO1O"
   },
   "source": [
    "##Baseline Model (KNN)"
   ]
  },
  {
   "cell_type": "code",
   "execution_count": null,
   "metadata": {
    "colab": {},
    "colab_type": "code",
    "id": "WXeTT4GwA9bN"
   },
   "outputs": [],
   "source": [
    "from sklearn.naive_bayes import GaussianNB\n",
    "import pandas as pd\n",
    "import numpy as np\n",
    "from pathlib import Path, PosixPath\n",
    "\n",
    "import gzip\n",
    "import json"
   ]
  },
  {
   "cell_type": "code",
   "execution_count": 2,
   "metadata": {},
   "outputs": [],
   "source": [
    "# parse data from compressed json into pandas DF\n",
    "def parse(path):\n",
    "  g = gzip.open(path, 'rb')\n",
    "  for l in g:\n",
    "    yield eval(l)\n",
    "\n",
    "def getDF(path):\n",
    "  i = 0\n",
    "  df = {}\n",
    "  for d in parse(path):\n",
    "    df[i] = d\n",
    "    i += 1\n",
    "  return pd.DataFrame.from_dict(df, orient='index')"
   ]
  },
  {
   "cell_type": "code",
   "execution_count": 30,
   "metadata": {
    "colab": {},
    "colab_type": "code",
    "id": "wHEe5MIfBIsL"
   },
   "outputs": [],
   "source": [
    "# #google drive implementation\n",
    "# from pydrive.auth import GoogleAuth \n",
    "# from pydrive.drive import GoogleDrive\n",
    "# from google.colab import auth\n",
    "# from oauth2client.client import GoogleCredentials\n",
    "# auth.authenticate_user()\n",
    "# g_auth = GoogleAuth()\n",
    "# g_auth.credentials = GoogleCredentials.get_application_default()\n",
    "# drive = GoogleDrive(g_auth)\n",
    "# my data directory token\n",
    "# data_token = \"'1BiqD6B0Wt5-fiaDvdWSTwkOTK3n_ioTL'\"\n",
    "\n",
    "# file_list = drive.ListFile(\n",
    "#     {'q': data_token + \" in parents and trashed=false\"}).GetList()\n",
    "# # show all files in directory\n",
    "# for file in file_list:\n",
    "#   print('title: %s, id: %s' % (file['title'], file['id']))\n",
    "# book_id = file_list[0]['id']\n",
    "# book_filename = file_list[0]['title']\n",
    "\n",
    "# data_download = drive.CreateFile({'id': book_id})\n",
    "# data_download.GetContentFile(book_filename)"
   ]
  },
  {
   "cell_type": "code",
   "execution_count": 3,
   "metadata": {},
   "outputs": [],
   "source": [
    "# local implementation\n",
    "root_path = Path(r\"C:\\Users\\tucka\\berkeley\\W266\\final\")\n",
    "data_path = Path(str(root_path) + \"/data\")\n",
    "book_filepath = Path(str(data_path) + \"/reviews_Books_5.json.gz\")\n",
    "book_filepath = r\"C:\\Users\\tucka\\berkeley\\W266\\final\\data\\reviews_Books_5.json.gz\""
   ]
  },
  {
   "cell_type": "code",
   "execution_count": null,
   "metadata": {
    "colab": {},
    "colab_type": "code",
    "id": "iHCnzKbHoJS4"
   },
   "outputs": [],
   "source": [
    "book_df = getDF(book_filepath)"
   ]
  },
  {
   "cell_type": "code",
   "execution_count": null,
   "metadata": {
    "colab": {
     "base_uri": "https://localhost:8080/",
     "height": 163
    },
    "colab_type": "code",
    "id": "j-q3lrtCT4mj",
    "outputId": "d6c128fe-2b2f-435a-efb3-f70060ad1f8b"
   },
   "outputs": [],
   "source": [
    "book_df.head"
   ]
  },
  {
   "cell_type": "code",
   "execution_count": null,
   "metadata": {
    "colab": {},
    "colab_type": "code",
    "id": "Jl5UlU2vtPt_"
   },
   "outputs": [],
   "source": []
  },
  {
   "cell_type": "markdown",
   "metadata": {
    "colab_type": "text",
    "id": "wYaY_j-txWVI"
   },
   "source": [
    "##TODO NN Models"
   ]
  },
  {
   "cell_type": "code",
   "execution_count": null,
   "metadata": {
    "colab": {},
    "colab_type": "code",
    "id": "2EPDmvG4xYrv"
   },
   "outputs": [],
   "source": []
  }
 ],
 "metadata": {
  "colab": {
   "collapsed_sections": [],
   "name": "W266_Final_AmazonReviews.ipynb",
   "provenance": []
  },
  "kernelspec": {
   "display_name": "Python 3",
   "language": "python",
   "name": "python3"
  },
  "language_info": {
   "codemirror_mode": {
    "name": "ipython",
    "version": 3
   },
   "file_extension": ".py",
   "mimetype": "text/x-python",
   "name": "python",
   "nbconvert_exporter": "python",
   "pygments_lexer": "ipython3",
   "version": "3.6.3"
  }
 },
 "nbformat": 4,
 "nbformat_minor": 2
}
